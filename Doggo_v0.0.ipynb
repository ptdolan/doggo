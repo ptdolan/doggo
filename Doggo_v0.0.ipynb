{
 "cells": [
  {
   "cell_type": "code",
   "execution_count": null,
   "metadata": {},
   "outputs": [],
   "source": [
    "import random \n",
    "import numpy as np\n",
    "import scipy as sp\n",
    "import pandas as pd\n",
    "from multiprocessing import Pool\n",
    "from statsmodels.stats.multitest import multipletests as mult  #MULTIPLE TESTING MODULE \n",
    "from matplotlib import pyplot as plt"
   ]
  },
  {
   "cell_type": "code",
   "execution_count": null,
   "metadata": {},
   "outputs": [],
   "source": [
    "MaxReps=100000"
   ]
  },
  {
   "cell_type": "code",
   "execution_count": null,
   "metadata": {},
   "outputs": [],
   "source": [
    "#'''\n",
    "file=\"/Users/ptdolan/Documents/GitHub/doggo/msigdb.v7.1.symbols.gmt\"#CHANGE THIS TO YOUR LOCATION. RUN BLOCK ONCE (to make pickles) THEN COMMENT OUT. \n",
    "with open(file,'r') as inf:\n",
    "    alllines=[line.strip().split(\"\\t\") for line in inf]\n",
    "    DF=pd.concat([pd.DataFrame(zip([l[0]]*len(l[2:]),l[2:]),columns=[\"term\",\"genes\"]) for l in alllines])\n",
    "pd.to_pickle(DF,\"/Users/ptdolan/Documents/GitHub/doggo/msigdb.pkl\")#'''"
   ]
  },
  {
   "cell_type": "code",
   "execution_count": null,
   "metadata": {},
   "outputs": [],
   "source": [
    "MSigDB=pd.read_pickle(\"/Users/ptdolan/Documents/GitHub/doggo/msigdb.pkl\")#CHANGE TO YOUR LOCALE (MATCH ABOVE)"
   ]
  },
  {
   "cell_type": "code",
   "execution_count": null,
   "metadata": {},
   "outputs": [],
   "source": [
    "#This inputData file should be a long table with genes as rows and the date for each as columns. The 'score' (e.g. Fold change, expression, z-scores,...) can then be \n",
    "inputData=\"~/Documents/GitHub/doggo/allParameters_PV-CVB_22920.csv\"\n",
    "data=pd.read_csv(inputData)\n",
    "data=data.loc[(data.r_hat_PV>=.99)&(data.r_hat_PV>=1.01)&(data.r_hat_CVB>=.99)&(data.r_hat_CVB<=1.01)]#my data Specific filter for quality. "
   ]
  },
  {
   "cell_type": "code",
   "execution_count": null,
   "metadata": {},
   "outputs": [],
   "source": [
    "def computeEnrichmentPV(t,d,P):#I had to write two nearly identical functions for this specific data set (\"...PV\", and \"...CVB\")\n",
    "    DBgenes=MSigDB.loc[MSigDB.term==t].genes\n",
    "    totalMean=d.loc[(d.Param==P)].mean_PV.values.mean()\n",
    "    targets=d.loc[(d.Param==P)&([(d in DBgenes.values) for d in d.target.values])]\n",
    "    nrowS=targets.shape[0]\n",
    "    if nrowS>2:#If more that two genes in term set...\n",
    "        print(t)\n",
    "        meanSelect=totalMean-targets.mean_PV.values.mean()\n",
    "        nrowT=d.shape[0]\n",
    "        positives=0\n",
    "        denom=0\n",
    "        if meanSelect < 0:#choose which tail to test...\n",
    "            while (positives<30)&(denom<MaxReps):\n",
    "                denom+=1\n",
    "                diffSample=totalMean-d.iloc[np.random.randint(0,nrowT,nrowS)].mean_PV.mean()\n",
    "                positives+=int(diffSample<meanSelect)\n",
    "        else:\n",
    "            while (positives<30)&(denom<MaxReps):\n",
    "                denom+=1                \n",
    "                diffSample=totalMean-d.iloc[np.random.randint(0,nrowT,nrowS)].mean_PV.mean()\n",
    "                positives+=int(diffSample>meanSelect)\n",
    "        #print(positives/denom)\n",
    "        #print((meanSelect-totalMean)/totalMean)\n",
    "    else:return(1.0)\n",
    "    return([positives/denom, ((meanSelect-totalMean)/totalMean)])"
   ]
  },
  {
   "cell_type": "code",
   "execution_count": null,
   "metadata": {},
   "outputs": [],
   "source": [
    "def computeEnrichmentCVB(t,d,P):\n",
    "    DBgenes=MSigDB.loc[MSigDB.term==t].genes\n",
    "    totalMean=d.loc[(d.Param==P)].mean_CVB.values.mean()\n",
    "    targets=d.loc[(d.Param==P)&([(d in DBgenes.values) for d in d.target.values])]\n",
    "    nrowS=targets.shape[0]\n",
    "    if nrowS>2:\n",
    "        print(t)\n",
    "        meanSelect=totalMean-targets.mean_CVB.values.mean()\n",
    "        nrowT=d.shape[0]\n",
    "        positives=0\n",
    "        denom=0\n",
    "        if meanSelect < 0:#choose which tail to test...\n",
    "            while (positives<30)&(denom<MaxReps):\n",
    "                denom+=1\n",
    "                diffSample=totalMean-d.iloc[np.random.randint(0,nrowT,nrowS)].mean_CVB.mean()\n",
    "                positives+=int(diffSample<meanSelect)\n",
    "        else:\n",
    "            while (positives<30)&(denom<MaxReps):\n",
    "                denom+=1                \n",
    "                diffSample=totalMean-d.iloc[np.random.randint(0,nrowT,nrowS)].mean_CVB.mean()\n",
    "                positives+=int(diffSample>meanSelect)\n",
    "        #print(positives/denom)\n",
    "        #print((meanSelect-totalMean)/totalMean)\n",
    "    else:return(1.0)\n",
    "    return([positives/denom, ((meanSelect-totalMean)/totalMean)])"
   ]
  },
  {
   "cell_type": "code",
   "execution_count": null,
   "metadata": {},
   "outputs": [],
   "source": [
    "PREFIX=\"REACTOME_\"#DB to explore for enrichment (see the DB file for other formats \"GO_\", others...)\n"
   ]
  },
  {
   "cell_type": "code",
   "execution_count": null,
   "metadata": {},
   "outputs": [],
   "source": [
    "#This is the main block, and needs to be edited based on your data and the parameter (score column you will be sampling in your data.)\n",
    "def f(term):\n",
    "    DF=pd.DataFrame([term,computeEnrichmentPV(term,data,\"Max\")],index=[\"term\",\"pBS\"]).transpose() #A lot going on here. run the f() function defined above, take outputs and transpose for stacking in output DF\n",
    "    return(DF)\n",
    "if __name__ == '__main__':#Wrapped this f() function in a parallelization to speed up. Can tune pool size for computer. \n",
    "    with Pool(5) as p:\n",
    "        PVMax=pd.concat(p.map(f, [term for term in MSigDB.term.unique() if term.startswith(PREFIX)]))\n",
    "    PVMax['adjPbs']=mult(PVMax.pBS)[1]#\n",
    "    PVMax.to_csv(\"PVMax.csv\")#name output file approriately"
   ]
  },
  {
   "cell_type": "code",
   "execution_count": null,
   "metadata": {},
   "outputs": [],
   "source": [
    "if __name__ == '__main__':#Wrapped this f() function in a parallelization to speed up. Can tune pool size for computer. \n",
    "    with Pool(5) as p:\n",
    "        PVMax=pd.concat(p.map(f, [term for term in MSigDB.term.unique() if term.startswith(PREFIX)]))\n",
    "    PVMax['adjPbs']=mult(PVMax.pBS)[1]#\n",
    "    PVMax.to_csv(\"PVMax.csv\")#name output file approriately"
   ]
  },
  {
   "cell_type": "code",
   "execution_count": null,
   "metadata": {},
   "outputs": [],
   "source": [
    "def f(term):#max output based analysis CVB\n",
    "    DF=pd.DataFrame([term,computeEnrichmentCVB(term,data,\"Max\")],index=[\"term\",\"pBS\"]).transpose() \n",
    "    return(DF)\n",
    "if __name__ == '__main__':\n",
    "    with Pool(5) as p:\n",
    "        CVBMax=pd.concat(p.map(f, [term for term in MSigDB.term.unique() if term.startswith(PREFIX)]))\n",
    "    CVBMax['adjPbs']=mult(CVBMax.pBS)[1]#p adjustment\n",
    "    CVBMax.to_csv(\"CVBMax.csv\")"
   ]
  },
  {
   "cell_type": "code",
   "execution_count": null,
   "metadata": {},
   "outputs": [],
   "source": [
    "def f(term):#midpoint based analysis PV\n",
    "    DF=pd.DataFrame([term,computeEnrichmentPV(term,data,\"MP\")],index=[\"term\",\"pBS\"]).transpose() \n",
    "    return(DF)\n",
    "if __name__ == '__main__':\n",
    "    with Pool(5) as p:\n",
    "        PVMP=pd.concat(p.map(f, [term for term in MSigDB.term.unique() if term.startswith(PREFIX)]))\n",
    "    PVMP['adjPbs']=mult(PVMP.pBS)[1]\n",
    "    PVMP.to_csv(\"PVMP.csv\")\n"
   ]
  },
  {
   "cell_type": "code",
   "execution_count": null,
   "metadata": {},
   "outputs": [],
   "source": [
    "def f(term):#midpoint based analysis CVB\n",
    "    DF=pd.DataFrame([term,computeEnrichmentCVB(term,data,\"MP\")],index=[\"term\",\"pBS\"]).transpose() \n",
    "    return(DF)\n",
    "if __name__ == '__main__':\n",
    "    with Pool(5) as p:\n",
    "        CVBMP=pd.concat(p.map(f, [term for term in MSigDB.term.unique() if term.startswith(PREFIX)]))\n",
    "    CVBMP['adjPbs']=mult(CVBMP.pBS)[1]\n",
    "    CVBMP.to_csv(\"CVBMP.csv\")"
   ]
  },
  {
   "cell_type": "code",
   "execution_count": null,
   "metadata": {},
   "outputs": [],
   "source": []
  }
 ],
 "metadata": {
  "kernelspec": {
   "display_name": "Python 3",
   "language": "python",
   "name": "python3"
  },
  "language_info": {
   "codemirror_mode": {
    "name": "ipython",
    "version": 3
   },
   "file_extension": ".py",
   "mimetype": "text/x-python",
   "name": "python",
   "nbconvert_exporter": "python",
   "pygments_lexer": "ipython3",
   "version": "3.7.7"
  }
 },
 "nbformat": 4,
 "nbformat_minor": 4
}
